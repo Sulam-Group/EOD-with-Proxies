{
 "cells": [
  {
   "cell_type": "markdown",
   "metadata": {},
   "source": [
    "# Verifying Assumption 1 on FIFA 2020 Task"
   ]
  },
  {
   "cell_type": "code",
   "execution_count": 5,
   "metadata": {},
   "outputs": [],
   "source": [
    "# Import necessary packages\n",
    "import sys\n",
    "sys.path.append('..')\n",
    "import numpy as np\n",
    "import pandas as pd\n",
    "from balancers import BinaryBalancer\n",
    "from utils import BertClassifier, Dataset, train\n",
    "\n",
    "# sklearn\n",
    "from sklearn.ensemble import RandomForestClassifier \n",
    "from sklearn.model_selection import train_test_split\n",
    "\n",
    "# pytorch\n",
    "import torch"
   ]
  },
  {
   "cell_type": "code",
   "execution_count": 6,
   "metadata": {},
   "outputs": [
    {
     "name": "stdout",
     "output_type": "stream",
     "text": [
      "Number of players: 2553\n"
     ]
    }
   ],
   "source": [
    "# Import fifa 20 dataset\n",
    "all_data = pd.read_csv('data/players_20.csv')\n",
    "results_dir = 'results/'\n",
    "\n",
    "# Set the nationalities you want to use\n",
    "c1 = 'England'\n",
    "c2 = 'Argentina'\n",
    "nationalities = [c1,c2]\n",
    "\n",
    "# Keep relevant columns\n",
    "o_data = all_data[['long_name','age','nationality','overall','wage_eur']].copy(deep = True)\n",
    "\n",
    "# Change column names of nationality and wage_eur to a and y \n",
    "o_data.rename(columns = {'nationality':'a', 'wage_eur':'y'}, inplace = True)\n",
    "\n",
    "# Restrict to specified nationalities\n",
    "o_data = o_data.loc[(o_data['a'].isin([nationalities[0], nationalities[1]]))]\n",
    "print('Number of players:', o_data.shape[0])\n",
    "\n",
    "# Only keep relevant feagires and outcomes\n",
    "data = o_data[['long_name','age','a','overall','y']].copy(deep = True)\n",
    "\n",
    "# Binarize nationality\n",
    "data = data.replace(nationalities[0],0)\n",
    "data = data.replace(nationalities[1],1)\n",
    "\n",
    "# Reset the index\n",
    "data = data.reset_index(drop=True)\n",
    "\n",
    "# Binarize outcome using median outcome\n",
    "data.loc[data['y'] < np.median(data['y']), 'y'] = 0\n",
    "data.loc[data['y'] >= np.median(data['y']), 'y'] = 1"
   ]
  },
  {
   "cell_type": "code",
   "execution_count": 7,
   "metadata": {},
   "outputs": [],
   "source": [
    "# Create new column to stratify data and calculate base rates\n",
    "group = []\n",
    "for i in range(data.shape[0]):\n",
    "    # w\n",
    "    if np.sum(data[['a','y']].iloc[i] == [0,0]) == 2:\n",
    "        group.append(1)\n",
    "    # v\n",
    "    if np.sum(data[['a','y']].iloc[i] == [1,0]) == 2:\n",
    "        group.append(2)\n",
    "    # s\n",
    "    if np.sum(data[['a','y']].iloc[i] == [0,1]) == 2:\n",
    "        group.append(3)\n",
    "    # r\n",
    "    if np.sum(data[['a','y']].iloc[i] == [1,1]) == 2:\n",
    "        group.append(4)\n",
    "\n",
    "# Add column to the data\n",
    "data['group'] = group\n",
    "\n",
    "# Calculate base rates\n",
    "total = data.shape[0]\n",
    "r = np.sum(data['group'] == 4)/total\n",
    "s = np.sum(data['group'] == 3)/total\n",
    "v = np.sum(data['group'] == 2)/total\n",
    "w = np.sum(data['group'] == 1)/total"
   ]
  },
  {
   "cell_type": "markdown",
   "metadata": {},
   "source": [
    "### Learn a predictor for A (nationality) using player name"
   ]
  },
  {
   "cell_type": "code",
   "execution_count": 8,
   "metadata": {},
   "outputs": [
    {
     "name": "stderr",
     "output_type": "stream",
     "text": [
      "100%|██████████| 957/957 [00:40<00:00, 23.56it/s]\n"
     ]
    },
    {
     "name": "stdout",
     "output_type": "stream",
     "text": [
      "Epochs: 1 | Train Loss:  0.219             | Train Accuracy:  0.918             | Val Loss:  0.121             | Val Accuracy:  0.959\n"
     ]
    },
    {
     "name": "stderr",
     "output_type": "stream",
     "text": [
      "100%|██████████| 957/957 [00:40<00:00, 23.37it/s]\n"
     ]
    },
    {
     "name": "stdout",
     "output_type": "stream",
     "text": [
      "Epochs: 2 | Train Loss:  0.078             | Train Accuracy:  0.978             | Val Loss:  0.125             | Val Accuracy:  0.956\n"
     ]
    },
    {
     "name": "stderr",
     "output_type": "stream",
     "text": [
      "100%|██████████| 957/957 [00:40<00:00, 23.51it/s]\n"
     ]
    },
    {
     "name": "stdout",
     "output_type": "stream",
     "text": [
      "Epochs: 3 | Train Loss:  0.031             | Train Accuracy:  0.990             | Val Loss:  0.109             | Val Accuracy:  0.978\n"
     ]
    },
    {
     "name": "stderr",
     "output_type": "stream",
     "text": [
      "100%|██████████| 957/957 [00:40<00:00, 23.42it/s]\n"
     ]
    },
    {
     "name": "stdout",
     "output_type": "stream",
     "text": [
      "Epochs: 4 | Train Loss:  0.011             | Train Accuracy:  0.996             | Val Loss:  0.256             | Val Accuracy:  0.950\n"
     ]
    },
    {
     "name": "stderr",
     "output_type": "stream",
     "text": [
      "100%|██████████| 957/957 [00:40<00:00, 23.42it/s]\n"
     ]
    },
    {
     "name": "stdout",
     "output_type": "stream",
     "text": [
      "Epochs: 5 | Train Loss:  0.026             | Train Accuracy:  0.991             | Val Loss:  0.101             | Val Accuracy:  0.972\n"
     ]
    }
   ],
   "source": [
    "# Learn a predictor for nationality using name with BERT\n",
    "model = BertClassifier()\n",
    "LR = 1e-5\n",
    "\n",
    "# Splitting data into necessary datasets\n",
    "d_train, d_test = train_test_split(data, train_size = 0.75, stratify=data['group'])\n",
    "\n",
    "# Train model\n",
    "EPOCHS = 5\n",
    "train(model, d_train, d_test, LR, EPOCHS)"
   ]
  },
  {
   "cell_type": "code",
   "execution_count": 9,
   "metadata": {},
   "outputs": [],
   "source": [
    "# Use BERT on test set to generate a_hat\n",
    "xy_test = Dataset(d_test)\n",
    "xy_test_dataloader = torch.utils.data.DataLoader(xy_test, batch_size=len(xy_test))\n",
    "device = torch.device(\"cuda:1\")\n",
    "model.to(device)\n",
    "model = model.eval()\n",
    "with torch.no_grad():\n",
    "    for xy_test_input, xy_test_label, xy_test_remain in xy_test_dataloader:\n",
    "        xy_test_label = xy_test_label.to(device).float()\n",
    "        mask = xy_test_input['attention_mask'].to(device)\n",
    "        input_id = xy_test_input['input_ids'].squeeze(1).to(device)\n",
    "        output = model(input_id, mask).reshape(1,-1)[0]\n",
    "        a_hat = (output >= 0.5)*1.0\n",
    "        a_hat = a_hat.cpu().numpy()"
   ]
  },
  {
   "cell_type": "markdown",
   "metadata": {},
   "source": [
    "### Learn a predictor for Y (wage > median(wage)) using players age and overall attribute"
   ]
  },
  {
   "cell_type": "code",
   "execution_count": 10,
   "metadata": {},
   "outputs": [],
   "source": [
    "# Learn classifier for y\n",
    "x_test = d_test[['overall', 'age']]\n",
    "y_test = d_test['y'].to_numpy()\n",
    "\n",
    "# Create Classifier\n",
    "clf = RandomForestClassifier(n_estimators=10)\n",
    "\n",
    "# Split data into features and labels\n",
    "x_train = d_train[['overall', 'age']]\n",
    "y_train = d_train['y']\n",
    "\n",
    "# Fit classifier\n",
    "clf.fit(x_train.to_numpy(), y_train)\n",
    "\n",
    "# Evaluate probabilities/y_hat on test set\n",
    "y_prob = clf.predict_proba(x_test.to_numpy())\n",
    "    \n",
    "# Calculate y_hat\n",
    "y_hat = (y_prob[:,1] >= 0.5).astype('float')"
   ]
  },
  {
   "cell_type": "markdown",
   "metadata": {},
   "source": [
    "### Perform necessary calculations to verify Assumption 1"
   ]
  },
  {
   "cell_type": "code",
   "execution_count": 11,
   "metadata": {},
   "outputs": [
    {
     "name": "stdout",
     "output_type": "stream",
     "text": [
      "0\n",
      "200\n",
      "400\n",
      "600\n",
      "800\n"
     ]
    }
   ],
   "source": [
    "iter = 1000\n",
    "y = y_test\n",
    "a = d_test['a'].values\n",
    "num_rows = len(a)\n",
    "k = 0 \n",
    "\n",
    "alpha_h_11 = []\n",
    "alpha_h_11_lb = []\n",
    "alpha_h_01 = []\n",
    "alpha_h_01_lb = []\n",
    "alpha_h_10 = []\n",
    "alpha_h_10_lb = []\n",
    "alpha_h_00 = []\n",
    "alpha_h_00_lb = []\n",
    "\n",
    "\n",
    "while k < iter:\n",
    "    random_indices = np.random.choice(num_rows, size=num_rows, replace=True)\n",
    "    a_s = a[random_indices]\n",
    "    y_s = y[random_indices]\n",
    "    a_hat_s = a_hat[random_indices]\n",
    "    y_hat_s = y_hat[random_indices]\n",
    "    true_balancer = BinaryBalancer(y=y_s, y_=y_hat_s, a=a_s, a_hat = a_hat_s, adjusted = False)\n",
    "\n",
    "    # See if conditions are met\n",
    "    if true_balancer.assumption == 0:\n",
    "        true_balancer.adjust(con = 'tpr/fpr', obj = 'project')\n",
    "        true_balancer = BinaryBalancer(y=y_s, y_=true_balancer.y_adj, a=a_s, a_hat = a_hat_s)\n",
    "    \n",
    "    # Show assumption holds\n",
    "    alpha_h_11.append(true_balancer.a_gr_list[1].tpr)\n",
    "    alpha_h_11_lb.append(true_balancer.U1/true_balancer.est_base_rates['rh_11'])\n",
    "\n",
    "    alpha_h_01.append(true_balancer.a_gr_list[0].tpr)\n",
    "    alpha_h_01_lb.append(true_balancer.U0/true_balancer.est_base_rates['rh_01'])\n",
    "\n",
    "    alpha_h_10.append(true_balancer.a_gr_list[1].fpr)\n",
    "    alpha_h_10_lb.append(true_balancer.U1/true_balancer.est_base_rates['rh_10'])\n",
    "\n",
    "    alpha_h_00.append(true_balancer.a_gr_list[0].fpr)\n",
    "    alpha_h_00_lb.append(true_balancer.U0/true_balancer.est_base_rates['rh_00'])\n",
    "\n",
    "    if k%200 == 0:\n",
    "        print(k)\n",
    "    k = k+1 "
   ]
  },
  {
   "cell_type": "code",
   "execution_count": 12,
   "metadata": {},
   "outputs": [],
   "source": [
    "# Statistics to show assumption holds\n",
    "rows = ['alpha_h_11', 'alpha_h_11_ub', 'alpha_h_11_lb', \\\n",
    "        'alpha_h_01', 'alpha_h_01_ub', 'alpha_h_01_lb', \\\n",
    "        'alpha_h_10', 'alpha_h_10_ub', 'alpha_h_10_lb', \\\n",
    "        'alpha_h_00', 'alpha_h_00_ub', 'alpha_h_00_lb']\n",
    "values = [np.mean(np.array(alpha_h_11)), np.mean(1 - np.array(alpha_h_11_lb)), np.mean(np.array(alpha_h_11_lb)), \\\n",
    "          np.mean(np.array(alpha_h_01)), np.mean(1 - np.array(alpha_h_01_lb)), np.mean(np.array(alpha_h_01_lb)), \\\n",
    "          np.mean(np.array(alpha_h_10)), np.mean(1 - np.array(alpha_h_10_lb)), np.mean(np.array(alpha_h_10_lb)),\n",
    "          np.mean(np.array(alpha_h_00)), np.mean(1 - np.array(alpha_h_00_lb)), np.mean(np.array(alpha_h_00_lb))]\n",
    "df = pd.DataFrame(data = zip(rows, values), columns = ['Paramater', 'Value'])\n",
    "df.to_csv(results_dir + c1 + '_' + c2 + '/assumption_results.csv', index = 0)"
   ]
  }
 ],
 "metadata": {
  "kernelspec": {
   "display_name": "Python 3.10.12 ('cuda102_v1')",
   "language": "python",
   "name": "python3"
  },
  "language_info": {
   "codemirror_mode": {
    "name": "ipython",
    "version": 3
   },
   "file_extension": ".py",
   "mimetype": "text/x-python",
   "name": "python",
   "nbconvert_exporter": "python",
   "pygments_lexer": "ipython3",
   "version": "3.10.12"
  },
  "orig_nbformat": 4,
  "vscode": {
   "interpreter": {
    "hash": "894a129baa68054ca7e5f212455ea3e06439e084deea6d5def548d13e734b4a6"
   }
  }
 },
 "nbformat": 4,
 "nbformat_minor": 2
}
