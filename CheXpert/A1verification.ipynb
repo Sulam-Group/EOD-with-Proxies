{
 "cells": [
  {
   "cell_type": "markdown",
   "metadata": {},
   "source": [
    "# Verifying Assumption 1 on CheXpert Task"
   ]
  },
  {
   "cell_type": "code",
   "execution_count": 1,
   "metadata": {},
   "outputs": [],
   "source": [
    "# Load all necessary packages\n",
    "import sys\n",
    "sys.path.append('..')\n",
    "import numpy as np\n",
    "import pandas as pd\n",
    "from balancers import BinaryBalancer\n",
    "from utils import ROC\n",
    "import os"
   ]
  },
  {
   "cell_type": "code",
   "execution_count": 2,
   "metadata": {},
   "outputs": [],
   "source": [
    "# Load data \n",
    "results_dir = 'results/'\n",
    "data = pd.read_csv('data/results_grouped_condition.csv', index_col=[0])\n",
    "a_total = np.array(data['Sex'])\n",
    "y_total = np.array(data['grouped_condition'])\n",
    "a_hat_total = np.array(data['a_hat'])\n",
    "y_prob_total = np.array(data['y_prob'])\n",
    "val_num = len(a_total) - 100000\n",
    "val_indices = np.random.choice(val_num, size=val_num, replace=False)\n",
    "y_val = y_total[val_indices]\n",
    "y_prob_val = y_prob_total[val_indices]\n",
    "\n",
    "# Determine optimal threshold to get y_hat\n",
    "thresholds, fprs, tprs = ROC(y_val,y_prob_val)\n",
    "opt_t = thresholds[np.argmax(np.array(tprs) - np.array(fprs))]\n",
    "\n",
    "# Create test set\n",
    "a = np.delete(a_total,val_indices)\n",
    "y = np.delete(y_total,val_indices)\n",
    "a_hat = np.delete(a_hat_total,val_indices)\n",
    "y_prob = np.delete(y_prob_total,val_indices)\n",
    "y_hat = y_prob >= opt_t"
   ]
  },
  {
   "cell_type": "code",
   "execution_count": 3,
   "metadata": {},
   "outputs": [
    {
     "name": "stdout",
     "output_type": "stream",
     "text": [
      "0\n",
      "200\n",
      "400\n",
      "600\n",
      "800\n"
     ]
    }
   ],
   "source": [
    "# Run experiment\n",
    "K = 1000\n",
    "num_rows = len(a)\n",
    "k = 0 \n",
    "\n",
    "alpha_h_11 = []\n",
    "alpha_h_11_lb = []\n",
    "alpha_h_01 = []\n",
    "alpha_h_01_lb = []\n",
    "alpha_h_10 = []\n",
    "alpha_h_10_lb = []\n",
    "alpha_h_00 = []\n",
    "alpha_h_00_lb = []\n",
    "\n",
    "\n",
    "while k < K:\n",
    "    random_indices = np.random.choice(num_rows, size=num_rows, replace=True)\n",
    "    a_s = a[random_indices]\n",
    "    y_s = y[random_indices]\n",
    "    a_hat_s = a_hat[random_indices]\n",
    "    y_hat_s = y_hat[random_indices]\n",
    "    true_balancer = BinaryBalancer(y=y_s, y_=y_hat_s, a=a_s, a_hat = a_hat_s, adjusted = False)\n",
    "\n",
    "    # See if conditions are met\n",
    "    '''\n",
    "    if true_balancer.assumption == 0:\n",
    "        true_balancer.adjust(con = 'tpr/fpr', obj = 'none')\n",
    "        true_balancer = BinaryBalancer(y=y_s, y_=true_balancer.y_adj, a=a_s, a_hat = a_hat_s)\n",
    "    '''\n",
    "    \n",
    "    # Show assumption holds\n",
    "    alpha_h_11.append(true_balancer.a_gr_list[1].tpr)\n",
    "    alpha_h_11_lb.append(true_balancer.U1/true_balancer.est_base_rates['rh_11'])\n",
    "\n",
    "    alpha_h_01.append(true_balancer.a_gr_list[0].tpr)\n",
    "    alpha_h_01_lb.append(true_balancer.U0/true_balancer.est_base_rates['rh_01'])\n",
    "\n",
    "    alpha_h_10.append(true_balancer.a_gr_list[1].fpr)\n",
    "    alpha_h_10_lb.append(true_balancer.U1/true_balancer.est_base_rates['rh_10'])\n",
    "\n",
    "    alpha_h_00.append(true_balancer.a_gr_list[0].fpr)\n",
    "    alpha_h_00_lb.append(true_balancer.U0/true_balancer.est_base_rates['rh_00'])\n",
    "\n",
    "    if k%200 == 0:\n",
    "        print(k)\n",
    "    k = k+1 "
   ]
  },
  {
   "cell_type": "code",
   "execution_count": null,
   "metadata": {},
   "outputs": [],
   "source": [
    "# Statistics to show assumption holds\n",
    "rows = ['alpha_h_11', 'alpha_h_11_ub', 'alpha_h_11_lb', \\\n",
    "        'alpha_h_01', 'alpha_h_01_ub', 'alpha_h_01_lb', \\\n",
    "        'alpha_h_10', 'alpha_h_10_ub', 'alpha_h_10_lb', \\\n",
    "        'alpha_h_00', 'alpha_h_00_ub', 'alpha_h_00_lb']\n",
    "\n",
    "values = [np.mean(np.array(alpha_h_11)), np.mean(1 - np.array(alpha_h_11_lb)), np.mean(np.array(alpha_h_11_lb)), \\\n",
    "          np.mean(np.array(alpha_h_01)), np.mean(1 - np.array(alpha_h_01_lb)), np.mean(np.array(alpha_h_01_lb)), \\\n",
    "          np.mean(np.array(alpha_h_10)), np.mean(1 - np.array(alpha_h_10_lb)), np.mean(np.array(alpha_h_10_lb)),\n",
    "          np.mean(np.array(alpha_h_00)), np.mean(1 - np.array(alpha_h_00_lb)), np.mean(np.array(alpha_h_00_lb))]\n",
    "df = pd.DataFrame(data = zip(rows, values), columns = ['Paramater', 'Value'])\n",
    "df.to_csv(os.path.join(results_dir, 'assumption_results.csv'), index = 0)"
   ]
  }
 ],
 "metadata": {
  "kernelspec": {
   "display_name": "Python 3.10.12 ('cuda102_v1')",
   "language": "python",
   "name": "python3"
  },
  "language_info": {
   "codemirror_mode": {
    "name": "ipython",
    "version": 3
   },
   "file_extension": ".py",
   "mimetype": "text/x-python",
   "name": "python",
   "nbconvert_exporter": "python",
   "pygments_lexer": "ipython3",
   "version": "3.10.12"
  },
  "orig_nbformat": 4,
  "vscode": {
   "interpreter": {
    "hash": "894a129baa68054ca7e5f212455ea3e06439e084deea6d5def548d13e734b4a6"
   }
  }
 },
 "nbformat": 4,
 "nbformat_minor": 2
}
